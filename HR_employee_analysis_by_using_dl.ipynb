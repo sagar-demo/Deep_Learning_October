{
  "nbformat": 4,
  "nbformat_minor": 0,
  "metadata": {
    "colab": {
      "name": "HR_employee analysis by using dl.ipynb",
      "provenance": [],
      "collapsed_sections": []
    },
    "kernelspec": {
      "name": "python3",
      "display_name": "Python 3"
    },
    "accelerator": "GPU"
  },
  "cells": [
    {
      "cell_type": "code",
      "metadata": {
        "id": "6M4V-6Vg0gAk"
      },
      "source": [
        "import pandas as pd\n",
        "import numpy as np\n",
        "import matplotlib.pyplot as plt\n",
        "import seaborn as sns\n",
        "pd.set_option('display.max_columns',None)"
      ],
      "execution_count": null,
      "outputs": []
    },
    {
      "cell_type": "code",
      "metadata": {
        "id": "8EnNyM_C0rX-"
      },
      "source": [
        "url='/content/drive/My Drive/Hr/HR_comma_sep.csv'\n",
        "df = pd.read_csv(url)"
      ],
      "execution_count": null,
      "outputs": []
    },
    {
      "cell_type": "code",
      "metadata": {
        "id": "7FhKVEN_1Aql",
        "outputId": "c3978449-98bb-4c9c-b6d8-6ea91b96d1bb",
        "colab": {
          "base_uri": "https://localhost:8080/",
          "height": 204
        }
      },
      "source": [
        "df.head()"
      ],
      "execution_count": null,
      "outputs": [
        {
          "output_type": "execute_result",
          "data": {
            "text/html": [
              "<div>\n",
              "<style scoped>\n",
              "    .dataframe tbody tr th:only-of-type {\n",
              "        vertical-align: middle;\n",
              "    }\n",
              "\n",
              "    .dataframe tbody tr th {\n",
              "        vertical-align: top;\n",
              "    }\n",
              "\n",
              "    .dataframe thead th {\n",
              "        text-align: right;\n",
              "    }\n",
              "</style>\n",
              "<table border=\"1\" class=\"dataframe\">\n",
              "  <thead>\n",
              "    <tr style=\"text-align: right;\">\n",
              "      <th></th>\n",
              "      <th>satisfaction_level</th>\n",
              "      <th>last_evaluation</th>\n",
              "      <th>number_project</th>\n",
              "      <th>average_montly_hours</th>\n",
              "      <th>time_spend_company</th>\n",
              "      <th>Work_accident</th>\n",
              "      <th>left</th>\n",
              "      <th>promotion_last_5years</th>\n",
              "      <th>Department</th>\n",
              "      <th>salary</th>\n",
              "    </tr>\n",
              "  </thead>\n",
              "  <tbody>\n",
              "    <tr>\n",
              "      <th>0</th>\n",
              "      <td>0.38</td>\n",
              "      <td>0.53</td>\n",
              "      <td>2</td>\n",
              "      <td>157</td>\n",
              "      <td>3</td>\n",
              "      <td>0</td>\n",
              "      <td>1</td>\n",
              "      <td>0</td>\n",
              "      <td>sales</td>\n",
              "      <td>low</td>\n",
              "    </tr>\n",
              "    <tr>\n",
              "      <th>1</th>\n",
              "      <td>0.80</td>\n",
              "      <td>0.86</td>\n",
              "      <td>5</td>\n",
              "      <td>262</td>\n",
              "      <td>6</td>\n",
              "      <td>0</td>\n",
              "      <td>1</td>\n",
              "      <td>0</td>\n",
              "      <td>sales</td>\n",
              "      <td>medium</td>\n",
              "    </tr>\n",
              "    <tr>\n",
              "      <th>2</th>\n",
              "      <td>0.11</td>\n",
              "      <td>0.88</td>\n",
              "      <td>7</td>\n",
              "      <td>272</td>\n",
              "      <td>4</td>\n",
              "      <td>0</td>\n",
              "      <td>1</td>\n",
              "      <td>0</td>\n",
              "      <td>sales</td>\n",
              "      <td>medium</td>\n",
              "    </tr>\n",
              "    <tr>\n",
              "      <th>3</th>\n",
              "      <td>0.72</td>\n",
              "      <td>0.87</td>\n",
              "      <td>5</td>\n",
              "      <td>223</td>\n",
              "      <td>5</td>\n",
              "      <td>0</td>\n",
              "      <td>1</td>\n",
              "      <td>0</td>\n",
              "      <td>sales</td>\n",
              "      <td>low</td>\n",
              "    </tr>\n",
              "    <tr>\n",
              "      <th>4</th>\n",
              "      <td>0.37</td>\n",
              "      <td>0.52</td>\n",
              "      <td>2</td>\n",
              "      <td>159</td>\n",
              "      <td>3</td>\n",
              "      <td>0</td>\n",
              "      <td>1</td>\n",
              "      <td>0</td>\n",
              "      <td>sales</td>\n",
              "      <td>low</td>\n",
              "    </tr>\n",
              "  </tbody>\n",
              "</table>\n",
              "</div>"
            ],
            "text/plain": [
              "   satisfaction_level  last_evaluation  number_project  average_montly_hours  \\\n",
              "0                0.38             0.53               2                   157   \n",
              "1                0.80             0.86               5                   262   \n",
              "2                0.11             0.88               7                   272   \n",
              "3                0.72             0.87               5                   223   \n",
              "4                0.37             0.52               2                   159   \n",
              "\n",
              "   time_spend_company  Work_accident  left  promotion_last_5years Department  \\\n",
              "0                   3              0     1                      0      sales   \n",
              "1                   6              0     1                      0      sales   \n",
              "2                   4              0     1                      0      sales   \n",
              "3                   5              0     1                      0      sales   \n",
              "4                   3              0     1                      0      sales   \n",
              "\n",
              "   salary  \n",
              "0     low  \n",
              "1  medium  \n",
              "2  medium  \n",
              "3     low  \n",
              "4     low  "
            ]
          },
          "metadata": {
            "tags": []
          },
          "execution_count": 9
        }
      ]
    },
    {
      "cell_type": "code",
      "metadata": {
        "id": "KrXdDu7M1B0V",
        "outputId": "b5acd457-4840-45b5-ce39-dc2578ca3fad",
        "colab": {
          "base_uri": "https://localhost:8080/",
          "height": 224
        }
      },
      "source": [
        "df.tail()"
      ],
      "execution_count": null,
      "outputs": [
        {
          "output_type": "execute_result",
          "data": {
            "text/html": [
              "<div>\n",
              "<style scoped>\n",
              "    .dataframe tbody tr th:only-of-type {\n",
              "        vertical-align: middle;\n",
              "    }\n",
              "\n",
              "    .dataframe tbody tr th {\n",
              "        vertical-align: top;\n",
              "    }\n",
              "\n",
              "    .dataframe thead th {\n",
              "        text-align: right;\n",
              "    }\n",
              "</style>\n",
              "<table border=\"1\" class=\"dataframe\">\n",
              "  <thead>\n",
              "    <tr style=\"text-align: right;\">\n",
              "      <th></th>\n",
              "      <th>satisfaction_level</th>\n",
              "      <th>last_evaluation</th>\n",
              "      <th>number_project</th>\n",
              "      <th>average_montly_hours</th>\n",
              "      <th>time_spend_company</th>\n",
              "      <th>Work_accident</th>\n",
              "      <th>left</th>\n",
              "      <th>promotion_last_5years</th>\n",
              "      <th>Department</th>\n",
              "      <th>salary</th>\n",
              "    </tr>\n",
              "  </thead>\n",
              "  <tbody>\n",
              "    <tr>\n",
              "      <th>14994</th>\n",
              "      <td>0.40</td>\n",
              "      <td>0.57</td>\n",
              "      <td>2</td>\n",
              "      <td>151</td>\n",
              "      <td>3</td>\n",
              "      <td>0</td>\n",
              "      <td>1</td>\n",
              "      <td>0</td>\n",
              "      <td>support</td>\n",
              "      <td>low</td>\n",
              "    </tr>\n",
              "    <tr>\n",
              "      <th>14995</th>\n",
              "      <td>0.37</td>\n",
              "      <td>0.48</td>\n",
              "      <td>2</td>\n",
              "      <td>160</td>\n",
              "      <td>3</td>\n",
              "      <td>0</td>\n",
              "      <td>1</td>\n",
              "      <td>0</td>\n",
              "      <td>support</td>\n",
              "      <td>low</td>\n",
              "    </tr>\n",
              "    <tr>\n",
              "      <th>14996</th>\n",
              "      <td>0.37</td>\n",
              "      <td>0.53</td>\n",
              "      <td>2</td>\n",
              "      <td>143</td>\n",
              "      <td>3</td>\n",
              "      <td>0</td>\n",
              "      <td>1</td>\n",
              "      <td>0</td>\n",
              "      <td>support</td>\n",
              "      <td>low</td>\n",
              "    </tr>\n",
              "    <tr>\n",
              "      <th>14997</th>\n",
              "      <td>0.11</td>\n",
              "      <td>0.96</td>\n",
              "      <td>6</td>\n",
              "      <td>280</td>\n",
              "      <td>4</td>\n",
              "      <td>0</td>\n",
              "      <td>1</td>\n",
              "      <td>0</td>\n",
              "      <td>support</td>\n",
              "      <td>low</td>\n",
              "    </tr>\n",
              "    <tr>\n",
              "      <th>14998</th>\n",
              "      <td>0.37</td>\n",
              "      <td>0.52</td>\n",
              "      <td>2</td>\n",
              "      <td>158</td>\n",
              "      <td>3</td>\n",
              "      <td>0</td>\n",
              "      <td>1</td>\n",
              "      <td>0</td>\n",
              "      <td>support</td>\n",
              "      <td>low</td>\n",
              "    </tr>\n",
              "  </tbody>\n",
              "</table>\n",
              "</div>"
            ],
            "text/plain": [
              "       satisfaction_level  last_evaluation  number_project  \\\n",
              "14994                0.40             0.57               2   \n",
              "14995                0.37             0.48               2   \n",
              "14996                0.37             0.53               2   \n",
              "14997                0.11             0.96               6   \n",
              "14998                0.37             0.52               2   \n",
              "\n",
              "       average_montly_hours  time_spend_company  Work_accident  left  \\\n",
              "14994                   151                   3              0     1   \n",
              "14995                   160                   3              0     1   \n",
              "14996                   143                   3              0     1   \n",
              "14997                   280                   4              0     1   \n",
              "14998                   158                   3              0     1   \n",
              "\n",
              "       promotion_last_5years Department salary  \n",
              "14994                      0    support    low  \n",
              "14995                      0    support    low  \n",
              "14996                      0    support    low  \n",
              "14997                      0    support    low  \n",
              "14998                      0    support    low  "
            ]
          },
          "metadata": {
            "tags": []
          },
          "execution_count": 10
        }
      ]
    },
    {
      "cell_type": "code",
      "metadata": {
        "id": "5b7i9oo21ERb",
        "outputId": "6e12d352-4920-4e63-f1fb-e96d6ee4515d",
        "colab": {
          "base_uri": "https://localhost:8080/",
          "height": 34
        }
      },
      "source": [
        "df.shape"
      ],
      "execution_count": null,
      "outputs": [
        {
          "output_type": "execute_result",
          "data": {
            "text/plain": [
              "(14999, 10)"
            ]
          },
          "metadata": {
            "tags": []
          },
          "execution_count": 11
        }
      ]
    },
    {
      "cell_type": "code",
      "metadata": {
        "id": "-gFxfFFB1G4N",
        "outputId": "1b43b1ed-c35c-4cb8-b773-fc5cbc5814ea",
        "colab": {
          "base_uri": "https://localhost:8080/",
          "height": 306
        }
      },
      "source": [
        "df.info()"
      ],
      "execution_count": null,
      "outputs": [
        {
          "output_type": "stream",
          "text": [
            "<class 'pandas.core.frame.DataFrame'>\n",
            "RangeIndex: 14999 entries, 0 to 14998\n",
            "Data columns (total 10 columns):\n",
            " #   Column                 Non-Null Count  Dtype  \n",
            "---  ------                 --------------  -----  \n",
            " 0   satisfaction_level     14999 non-null  float64\n",
            " 1   last_evaluation        14999 non-null  float64\n",
            " 2   number_project         14999 non-null  int64  \n",
            " 3   average_montly_hours   14999 non-null  int64  \n",
            " 4   time_spend_company     14999 non-null  int64  \n",
            " 5   Work_accident          14999 non-null  int64  \n",
            " 6   left                   14999 non-null  int64  \n",
            " 7   promotion_last_5years  14999 non-null  int64  \n",
            " 8   Department             14999 non-null  object \n",
            " 9   salary                 14999 non-null  object \n",
            "dtypes: float64(2), int64(6), object(2)\n",
            "memory usage: 1.1+ MB\n"
          ],
          "name": "stdout"
        }
      ]
    },
    {
      "cell_type": "code",
      "metadata": {
        "id": "7attcBxZ1IYC",
        "outputId": "3ecbba39-b186-4fe3-8489-48860bdb5e4c",
        "colab": {
          "base_uri": "https://localhost:8080/",
          "height": 204
        }
      },
      "source": [
        "df.isnull().sum()"
      ],
      "execution_count": null,
      "outputs": [
        {
          "output_type": "execute_result",
          "data": {
            "text/plain": [
              "satisfaction_level       0\n",
              "last_evaluation          0\n",
              "number_project           0\n",
              "average_montly_hours     0\n",
              "time_spend_company       0\n",
              "Work_accident            0\n",
              "left                     0\n",
              "promotion_last_5years    0\n",
              "Department               0\n",
              "salary                   0\n",
              "dtype: int64"
            ]
          },
          "metadata": {
            "tags": []
          },
          "execution_count": 13
        }
      ]
    },
    {
      "cell_type": "code",
      "metadata": {
        "id": "AysTSrI91Nr6",
        "outputId": "2a53926d-1dbe-41fe-ebfb-133dddce8a70",
        "colab": {
          "base_uri": "https://localhost:8080/",
          "height": 283
        }
      },
      "source": [
        "fig=plt.figure()\n",
        "ax=fig.add_subplot(111)\n",
        "df['satisfaction_level'].plot(kind='kde',ax=ax)\n",
        "lines,labels=ax.get_legend_handles_labels()\n",
        "ax.legend(lines,labels,loc='best')"
      ],
      "execution_count": null,
      "outputs": [
        {
          "output_type": "execute_result",
          "data": {
            "text/plain": [
              "<matplotlib.legend.Legend at 0x7f3f635e4ef0>"
            ]
          },
          "metadata": {
            "tags": []
          },
          "execution_count": 16
        },
        {
          "output_type": "display_data",
          "data": {
            "image/png": "[encoded data removed]",
            "text/plain": [
              "<Figure size 432x288 with 1 Axes>"
            ]
          },
          "metadata": {
            "tags": [],
            "needs_background": "light"
          }
        }
      ]
    },
    {
      "cell_type": "code",
      "metadata": {
        "id": "sva6MEg51m46",
        "outputId": "1e3bf3db-e7b8-4ef9-fef3-0fd17e528b60",
        "colab": {
          "base_uri": "https://localhost:8080/",
          "height": 282
        }
      },
      "source": [
        "fig=plt.figure()\n",
        "ax=fig.add_subplot(111)\n",
        "df['last_evaluation'].plot(kind='kde',ax=ax)\n",
        "lines,labels=ax.get_legend_handles_labels()\n",
        "ax.legend(lines,labels,loc='best')"
      ],
      "execution_count": null,
      "outputs": [
        {
          "output_type": "execute_result",
          "data": {
            "text/plain": [
              "<matplotlib.legend.Legend at 0x7f3f60bef9e8>"
            ]
          },
          "metadata": {
            "tags": []
          },
          "execution_count": 20
        },
        {
          "output_type": "display_data",
          "data": {
            "image/png": "[encoded data removed]",
            "text/plain": [
              "<Figure size 432x288 with 1 Axes>"
            ]
          },
          "metadata": {
            "tags": [],
            "needs_background": "light"
          }
        }
      ]
    },
    {
      "cell_type": "code",
      "metadata": {
        "id": "fw8uhzD_2MGX",
        "outputId": "d80ae3f1-a5fa-4213-e8c8-09c72e9561e8",
        "colab": {
          "base_uri": "https://localhost:8080/",
          "height": 351
        }
      },
      "source": [
        "sns.boxenplot('average_montly_hours',data=df)"
      ],
      "execution_count": null,
      "outputs": [
        {
          "output_type": "stream",
          "text": [
            "/usr/local/lib/python3.6/dist-packages/seaborn/_decorators.py:43: FutureWarning: Pass the following variable as a keyword arg: x. From version 0.12, the only valid positional argument will be `data`, and passing other arguments without an explicit keyword will result in an error or misinterpretation.\n",
            "  FutureWarning\n"
          ],
          "name": "stderr"
        },
        {
          "output_type": "execute_result",
          "data": {
            "text/plain": [
              "<matplotlib.axes._subplots.AxesSubplot at 0x7f3f60bb98d0>"
            ]
          },
          "metadata": {
            "tags": []
          },
          "execution_count": 21
        },
        {
          "output_type": "display_data",
          "data": {
            "image/png": "[encoded data removed]",
            "text/plain": [
              "<Figure size 432x288 with 1 Axes>"
            ]
          },
          "metadata": {
            "tags": [],
            "needs_background": "light"
          }
        }
      ]
    },
    {
      "cell_type": "code",
      "metadata": {
        "id": "ZN05O9nS2je4",
        "outputId": "75ed9efc-2fae-466d-e1bd-569d5c61599a",
        "colab": {
          "base_uri": "https://localhost:8080/",
          "height": 351
        }
      },
      "source": [
        "sns.boxplot('last_evaluation',data=df)"
      ],
      "execution_count": null,
      "outputs": [
        {
          "output_type": "stream",
          "text": [
            "/usr/local/lib/python3.6/dist-packages/seaborn/_decorators.py:43: FutureWarning: Pass the following variable as a keyword arg: x. From version 0.12, the only valid positional argument will be `data`, and passing other arguments without an explicit keyword will result in an error or misinterpretation.\n",
            "  FutureWarning\n"
          ],
          "name": "stderr"
        },
        {
          "output_type": "execute_result",
          "data": {
            "text/plain": [
              "<matplotlib.axes._subplots.AxesSubplot at 0x7f3f609e3ba8>"
            ]
          },
          "metadata": {
            "tags": []
          },
          "execution_count": 22
        },
        {
          "output_type": "display_data",
          "data": {
            "image/png": "[encoded data removed]",
            "text/plain": [
              "<Figure size 432x288 with 1 Axes>"
            ]
          },
          "metadata": {
            "tags": [],
            "needs_background": "light"
          }
        }
      ]
    },
    {
      "cell_type": "code",
      "metadata": {
        "id": "RBXwU3VQ2u6N",
        "outputId": "df731575-ee52-4e8f-e7f6-6e9ff7871fc8",
        "colab": {
          "base_uri": "https://localhost:8080/",
          "height": 351
        }
      },
      "source": [
        "sns.boxenplot('satisfaction_level',data=df)"
      ],
      "execution_count": null,
      "outputs": [
        {
          "output_type": "stream",
          "text": [
            "/usr/local/lib/python3.6/dist-packages/seaborn/_decorators.py:43: FutureWarning: Pass the following variable as a keyword arg: x. From version 0.12, the only valid positional argument will be `data`, and passing other arguments without an explicit keyword will result in an error or misinterpretation.\n",
            "  FutureWarning\n"
          ],
          "name": "stderr"
        },
        {
          "output_type": "execute_result",
          "data": {
            "text/plain": [
              "<matplotlib.axes._subplots.AxesSubplot at 0x7f3f609c53c8>"
            ]
          },
          "metadata": {
            "tags": []
          },
          "execution_count": 23
        },
        {
          "output_type": "display_data",
          "data": {
            "image/png": "[encoded data removed]",
            "text/plain": [
              "<Figure size 432x288 with 1 Axes>"
            ]
          },
          "metadata": {
            "tags": [],
            "needs_background": "light"
          }
        }
      ]
    },
    {
      "cell_type": "code",
      "metadata": {
        "id": "qLvoqzhA25vP",
        "outputId": "dcdebe2c-86b0-4564-a908-b3ad23fa93f3",
        "colab": {
          "base_uri": "https://localhost:8080/",
          "height": 204
        }
      },
      "source": [
        "# onehot encoding\n",
        "df['Department'].value_counts()"
      ],
      "execution_count": null,
      "outputs": [
        {
          "output_type": "execute_result",
          "data": {
            "text/plain": [
              "sales          4140\n",
              "technical      2720\n",
              "support        2229\n",
              "IT             1227\n",
              "product_mng     902\n",
              "marketing       858\n",
              "RandD           787\n",
              "accounting      767\n",
              "hr              739\n",
              "management      630\n",
              "Name: Department, dtype: int64"
            ]
          },
          "metadata": {
            "tags": []
          },
          "execution_count": 24
        }
      ]
    },
    {
      "cell_type": "code",
      "metadata": {
        "id": "EdCDH5zo3D7j",
        "outputId": "1099c711-5661-4707-8bd6-4604263ffb4d",
        "colab": {
          "base_uri": "https://localhost:8080/",
          "height": 452
        }
      },
      "source": [
        "sns.catplot(y='number_project',x='Department',data=df.sort_values('number_project',ascending=False),kind='boxen',height=6,aspect=3)"
      ],
      "execution_count": null,
      "outputs": [
        {
          "output_type": "execute_result",
          "data": {
            "text/plain": [
              "<seaborn.axisgrid.FacetGrid at 0x7f3f609166d8>"
            ]
          },
          "metadata": {
            "tags": []
          },
          "execution_count": 27
        },
        {
          "output_type": "display_data",
          "data": {
            "image/png": "[encoded data removed]",
            "text/plain": [
              "<Figure size 1296x432 with 1 Axes>"
            ]
          },
          "metadata": {
            "tags": [],
            "needs_background": "light"
          }
        }
      ]
    },
    {
      "cell_type": "code",
      "metadata": {
        "id": "_lm_2lGo3c5o",
        "outputId": "5589b41d-6dfc-4699-936a-cf762c89fb21",
        "colab": {
          "base_uri": "https://localhost:8080/",
          "height": 224
        }
      },
      "source": [
        "Department=df[['Department']]\n",
        "Department=pd.get_dummies(Department,drop_first=True)\n",
        "Department.head()"
      ],
      "execution_count": null,
      "outputs": [
        {
          "output_type": "execute_result",
          "data": {
            "text/html": [
              "<div>\n",
              "<style scoped>\n",
              "    .dataframe tbody tr th:only-of-type {\n",
              "        vertical-align: middle;\n",
              "    }\n",
              "\n",
              "    .dataframe tbody tr th {\n",
              "        vertical-align: top;\n",
              "    }\n",
              "\n",
              "    .dataframe thead th {\n",
              "        text-align: right;\n",
              "    }\n",
              "</style>\n",
              "<table border=\"1\" class=\"dataframe\">\n",
              "  <thead>\n",
              "    <tr style=\"text-align: right;\">\n",
              "      <th></th>\n",
              "      <th>Department_RandD</th>\n",
              "      <th>Department_accounting</th>\n",
              "      <th>Department_hr</th>\n",
              "      <th>Department_management</th>\n",
              "      <th>Department_marketing</th>\n",
              "      <th>Department_product_mng</th>\n",
              "      <th>Department_sales</th>\n",
              "      <th>Department_support</th>\n",
              "      <th>Department_technical</th>\n",
              "    </tr>\n",
              "  </thead>\n",
              "  <tbody>\n",
              "    <tr>\n",
              "      <th>0</th>\n",
              "      <td>0</td>\n",
              "      <td>0</td>\n",
              "      <td>0</td>\n",
              "      <td>0</td>\n",
              "      <td>0</td>\n",
              "      <td>0</td>\n",
              "      <td>1</td>\n",
              "      <td>0</td>\n",
              "      <td>0</td>\n",
              "    </tr>\n",
              "    <tr>\n",
              "      <th>1</th>\n",
              "      <td>0</td>\n",
              "      <td>0</td>\n",
              "      <td>0</td>\n",
              "      <td>0</td>\n",
              "      <td>0</td>\n",
              "      <td>0</td>\n",
              "      <td>1</td>\n",
              "      <td>0</td>\n",
              "      <td>0</td>\n",
              "    </tr>\n",
              "    <tr>\n",
              "      <th>2</th>\n",
              "      <td>0</td>\n",
              "      <td>0</td>\n",
              "      <td>0</td>\n",
              "      <td>0</td>\n",
              "      <td>0</td>\n",
              "      <td>0</td>\n",
              "      <td>1</td>\n",
              "      <td>0</td>\n",
              "      <td>0</td>\n",
              "    </tr>\n",
              "    <tr>\n",
              "      <th>3</th>\n",
              "      <td>0</td>\n",
              "      <td>0</td>\n",
              "      <td>0</td>\n",
              "      <td>0</td>\n",
              "      <td>0</td>\n",
              "      <td>0</td>\n",
              "      <td>1</td>\n",
              "      <td>0</td>\n",
              "      <td>0</td>\n",
              "    </tr>\n",
              "    <tr>\n",
              "      <th>4</th>\n",
              "      <td>0</td>\n",
              "      <td>0</td>\n",
              "      <td>0</td>\n",
              "      <td>0</td>\n",
              "      <td>0</td>\n",
              "      <td>0</td>\n",
              "      <td>1</td>\n",
              "      <td>0</td>\n",
              "      <td>0</td>\n",
              "    </tr>\n",
              "  </tbody>\n",
              "</table>\n",
              "</div>"
            ],
            "text/plain": [
              "   Department_RandD  Department_accounting  Department_hr  \\\n",
              "0                 0                      0              0   \n",
              "1                 0                      0              0   \n",
              "2                 0                      0              0   \n",
              "3                 0                      0              0   \n",
              "4                 0                      0              0   \n",
              "\n",
              "   Department_management  Department_marketing  Department_product_mng  \\\n",
              "0                      0                     0                       0   \n",
              "1                      0                     0                       0   \n",
              "2                      0                     0                       0   \n",
              "3                      0                     0                       0   \n",
              "4                      0                     0                       0   \n",
              "\n",
              "   Department_sales  Department_support  Department_technical  \n",
              "0                 1                   0                     0  \n",
              "1                 1                   0                     0  \n",
              "2                 1                   0                     0  \n",
              "3                 1                   0                     0  \n",
              "4                 1                   0                     0  "
            ]
          },
          "metadata": {
            "tags": []
          },
          "execution_count": 28
        }
      ]
    },
    {
      "cell_type": "code",
      "metadata": {
        "id": "tjOHLLs03zK9",
        "outputId": "395b4722-0a36-4930-9053-ddf2368eccee",
        "colab": {
          "base_uri": "https://localhost:8080/",
          "height": 452
        }
      },
      "source": [
        "sns.catplot(y='average_montly_hours',x='salary',data=df.sort_values('average_montly_hours',ascending=False),kind='boxen',height=6,aspect=3)"
      ],
      "execution_count": null,
      "outputs": [
        {
          "output_type": "execute_result",
          "data": {
            "text/plain": [
              "<seaborn.axisgrid.FacetGrid at 0x7f3f609b7518>"
            ]
          },
          "metadata": {
            "tags": []
          },
          "execution_count": 29
        },
        {
          "output_type": "display_data",
          "data": {
            "image/png": "[encoded data removed]",
            "text/plain": [
              "<Figure size 1296x432 with 1 Axes>"
            ]
          },
          "metadata": {
            "tags": [],
            "needs_background": "light"
          }
        }
      ]
    },
    {
      "cell_type": "code",
      "metadata": {
        "id": "P5K9gV5J4Ksf"
      },
      "source": [
        "salary=df[['salary']]\n",
        "salary=pd.get_dummies(salary,drop_first=True)"
      ],
      "execution_count": null,
      "outputs": []
    },
    {
      "cell_type": "code",
      "metadata": {
        "id": "nmJDSApj4UEN",
        "outputId": "dc2fd252-bb35-4f68-a4a8-12b515fdffc8",
        "colab": {
          "base_uri": "https://localhost:8080/",
          "height": 204
        }
      },
      "source": [
        "salary.head()"
      ],
      "execution_count": null,
      "outputs": [
        {
          "output_type": "execute_result",
          "data": {
            "text/html": [
              "<div>\n",
              "<style scoped>\n",
              "    .dataframe tbody tr th:only-of-type {\n",
              "        vertical-align: middle;\n",
              "    }\n",
              "\n",
              "    .dataframe tbody tr th {\n",
              "        vertical-align: top;\n",
              "    }\n",
              "\n",
              "    .dataframe thead th {\n",
              "        text-align: right;\n",
              "    }\n",
              "</style>\n",
              "<table border=\"1\" class=\"dataframe\">\n",
              "  <thead>\n",
              "    <tr style=\"text-align: right;\">\n",
              "      <th></th>\n",
              "      <th>salary_low</th>\n",
              "      <th>salary_medium</th>\n",
              "    </tr>\n",
              "  </thead>\n",
              "  <tbody>\n",
              "    <tr>\n",
              "      <th>0</th>\n",
              "      <td>1</td>\n",
              "      <td>0</td>\n",
              "    </tr>\n",
              "    <tr>\n",
              "      <th>1</th>\n",
              "      <td>0</td>\n",
              "      <td>1</td>\n",
              "    </tr>\n",
              "    <tr>\n",
              "      <th>2</th>\n",
              "      <td>0</td>\n",
              "      <td>1</td>\n",
              "    </tr>\n",
              "    <tr>\n",
              "      <th>3</th>\n",
              "      <td>1</td>\n",
              "      <td>0</td>\n",
              "    </tr>\n",
              "    <tr>\n",
              "      <th>4</th>\n",
              "      <td>1</td>\n",
              "      <td>0</td>\n",
              "    </tr>\n",
              "  </tbody>\n",
              "</table>\n",
              "</div>"
            ],
            "text/plain": [
              "   salary_low  salary_medium\n",
              "0           1              0\n",
              "1           0              1\n",
              "2           0              1\n",
              "3           1              0\n",
              "4           1              0"
            ]
          },
          "metadata": {
            "tags": []
          },
          "execution_count": 31
        }
      ]
    },
    {
      "cell_type": "code",
      "metadata": {
        "id": "Db-i9lf_4V08",
        "outputId": "9565a464-9312-4eb0-887a-ee240c5b2ffb",
        "colab": {
          "base_uri": "https://localhost:8080/",
          "height": 224
        }
      },
      "source": [
        "df=pd.concat([df,Department,salary],axis=1)\n",
        "df.head()"
      ],
      "execution_count": null,
      "outputs": [
        {
          "output_type": "execute_result",
          "data": {
            "text/html": [
              "<div>\n",
              "<style scoped>\n",
              "    .dataframe tbody tr th:only-of-type {\n",
              "        vertical-align: middle;\n",
              "    }\n",
              "\n",
              "    .dataframe tbody tr th {\n",
              "        vertical-align: top;\n",
              "    }\n",
              "\n",
              "    .dataframe thead th {\n",
              "        text-align: right;\n",
              "    }\n",
              "</style>\n",
              "<table border=\"1\" class=\"dataframe\">\n",
              "  <thead>\n",
              "    <tr style=\"text-align: right;\">\n",
              "      <th></th>\n",
              "      <th>satisfaction_level</th>\n",
              "      <th>last_evaluation</th>\n",
              "      <th>number_project</th>\n",
              "      <th>average_montly_hours</th>\n",
              "      <th>time_spend_company</th>\n",
              "      <th>Work_accident</th>\n",
              "      <th>left</th>\n",
              "      <th>promotion_last_5years</th>\n",
              "      <th>Department</th>\n",
              "      <th>salary</th>\n",
              "      <th>Department_RandD</th>\n",
              "      <th>Department_accounting</th>\n",
              "      <th>Department_hr</th>\n",
              "      <th>Department_management</th>\n",
              "      <th>Department_marketing</th>\n",
              "      <th>Department_product_mng</th>\n",
              "      <th>Department_sales</th>\n",
              "      <th>Department_support</th>\n",
              "      <th>Department_technical</th>\n",
              "      <th>salary_low</th>\n",
              "      <th>salary_medium</th>\n",
              "    </tr>\n",
              "  </thead>\n",
              "  <tbody>\n",
              "    <tr>\n",
              "      <th>0</th>\n",
              "      <td>0.38</td>\n",
              "      <td>0.53</td>\n",
              "      <td>2</td>\n",
              "      <td>157</td>\n",
              "      <td>3</td>\n",
              "      <td>0</td>\n",
              "      <td>1</td>\n",
              "      <td>0</td>\n",
              "      <td>sales</td>\n",
              "      <td>low</td>\n",
              "      <td>0</td>\n",
              "      <td>0</td>\n",
              "      <td>0</td>\n",
              "      <td>0</td>\n",
              "      <td>0</td>\n",
              "      <td>0</td>\n",
              "      <td>1</td>\n",
              "      <td>0</td>\n",
              "      <td>0</td>\n",
              "      <td>1</td>\n",
              "      <td>0</td>\n",
              "    </tr>\n",
              "    <tr>\n",
              "      <th>1</th>\n",
              "      <td>0.80</td>\n",
              "      <td>0.86</td>\n",
              "      <td>5</td>\n",
              "      <td>262</td>\n",
              "      <td>6</td>\n",
              "      <td>0</td>\n",
              "      <td>1</td>\n",
              "      <td>0</td>\n",
              "      <td>sales</td>\n",
              "      <td>medium</td>\n",
              "      <td>0</td>\n",
              "      <td>0</td>\n",
              "      <td>0</td>\n",
              "      <td>0</td>\n",
              "      <td>0</td>\n",
              "      <td>0</td>\n",
              "      <td>1</td>\n",
              "      <td>0</td>\n",
              "      <td>0</td>\n",
              "      <td>0</td>\n",
              "      <td>1</td>\n",
              "    </tr>\n",
              "    <tr>\n",
              "      <th>2</th>\n",
              "      <td>0.11</td>\n",
              "      <td>0.88</td>\n",
              "      <td>7</td>\n",
              "      <td>272</td>\n",
              "      <td>4</td>\n",
              "      <td>0</td>\n",
              "      <td>1</td>\n",
              "      <td>0</td>\n",
              "      <td>sales</td>\n",
              "      <td>medium</td>\n",
              "      <td>0</td>\n",
              "      <td>0</td>\n",
              "      <td>0</td>\n",
              "      <td>0</td>\n",
              "      <td>0</td>\n",
              "      <td>0</td>\n",
              "      <td>1</td>\n",
              "      <td>0</td>\n",
              "      <td>0</td>\n",
              "      <td>0</td>\n",
              "      <td>1</td>\n",
              "    </tr>\n",
              "    <tr>\n",
              "      <th>3</th>\n",
              "      <td>0.72</td>\n",
              "      <td>0.87</td>\n",
              "      <td>5</td>\n",
              "      <td>223</td>\n",
              "      <td>5</td>\n",
              "      <td>0</td>\n",
              "      <td>1</td>\n",
              "      <td>0</td>\n",
              "      <td>sales</td>\n",
              "      <td>low</td>\n",
              "      <td>0</td>\n",
              "      <td>0</td>\n",
              "      <td>0</td>\n",
              "      <td>0</td>\n",
              "      <td>0</td>\n",
              "      <td>0</td>\n",
              "      <td>1</td>\n",
              "      <td>0</td>\n",
              "      <td>0</td>\n",
              "      <td>1</td>\n",
              "      <td>0</td>\n",
              "    </tr>\n",
              "    <tr>\n",
              "      <th>4</th>\n",
              "      <td>0.37</td>\n",
              "      <td>0.52</td>\n",
              "      <td>2</td>\n",
              "      <td>159</td>\n",
              "      <td>3</td>\n",
              "      <td>0</td>\n",
              "      <td>1</td>\n",
              "      <td>0</td>\n",
              "      <td>sales</td>\n",
              "      <td>low</td>\n",
              "      <td>0</td>\n",
              "      <td>0</td>\n",
              "      <td>0</td>\n",
              "      <td>0</td>\n",
              "      <td>0</td>\n",
              "      <td>0</td>\n",
              "      <td>1</td>\n",
              "      <td>0</td>\n",
              "      <td>0</td>\n",
              "      <td>1</td>\n",
              "      <td>0</td>\n",
              "    </tr>\n",
              "  </tbody>\n",
              "</table>\n",
              "</div>"
            ],
            "text/plain": [
              "   satisfaction_level  last_evaluation  number_project  average_montly_hours  \\\n",
              "0                0.38             0.53               2                   157   \n",
              "1                0.80             0.86               5                   262   \n",
              "2                0.11             0.88               7                   272   \n",
              "3                0.72             0.87               5                   223   \n",
              "4                0.37             0.52               2                   159   \n",
              "\n",
              "   time_spend_company  Work_accident  left  promotion_last_5years Department  \\\n",
              "0                   3              0     1                      0      sales   \n",
              "1                   6              0     1                      0      sales   \n",
              "2                   4              0     1                      0      sales   \n",
              "3                   5              0     1                      0      sales   \n",
              "4                   3              0     1                      0      sales   \n",
              "\n",
              "   salary  Department_RandD  Department_accounting  Department_hr  \\\n",
              "0     low                 0                      0              0   \n",
              "1  medium                 0                      0              0   \n",
              "2  medium                 0                      0              0   \n",
              "3     low                 0                      0              0   \n",
              "4     low                 0                      0              0   \n",
              "\n",
              "   Department_management  Department_marketing  Department_product_mng  \\\n",
              "0                      0                     0                       0   \n",
              "1                      0                     0                       0   \n",
              "2                      0                     0                       0   \n",
              "3                      0                     0                       0   \n",
              "4                      0                     0                       0   \n",
              "\n",
              "   Department_sales  Department_support  Department_technical  salary_low  \\\n",
              "0                 1                   0                     0           1   \n",
              "1                 1                   0                     0           0   \n",
              "2                 1                   0                     0           0   \n",
              "3                 1                   0                     0           1   \n",
              "4                 1                   0                     0           1   \n",
              "\n",
              "   salary_medium  \n",
              "0              0  \n",
              "1              1  \n",
              "2              1  \n",
              "3              0  \n",
              "4              0  "
            ]
          },
          "metadata": {
            "tags": []
          },
          "execution_count": 32
        }
      ]
    },
    {
      "cell_type": "code",
      "metadata": {
        "id": "HNqnW0SW4d17"
      },
      "source": [
        "df.drop(['Department','salary'],inplace=True,axis=1)"
      ],
      "execution_count": null,
      "outputs": []
    },
    {
      "cell_type": "code",
      "metadata": {
        "id": "WLZpNFYZ4ngP",
        "outputId": "48c93d5b-b098-4faa-f594-15c94841d578",
        "colab": {
          "base_uri": "https://localhost:8080/",
          "height": 131
        }
      },
      "source": [
        "df.head(2)"
      ],
      "execution_count": null,
      "outputs": [
        {
          "output_type": "execute_result",
          "data": {
            "text/html": [
              "<div>\n",
              "<style scoped>\n",
              "    .dataframe tbody tr th:only-of-type {\n",
              "        vertical-align: middle;\n",
              "    }\n",
              "\n",
              "    .dataframe tbody tr th {\n",
              "        vertical-align: top;\n",
              "    }\n",
              "\n",
              "    .dataframe thead th {\n",
              "        text-align: right;\n",
              "    }\n",
              "</style>\n",
              "<table border=\"1\" class=\"dataframe\">\n",
              "  <thead>\n",
              "    <tr style=\"text-align: right;\">\n",
              "      <th></th>\n",
              "      <th>satisfaction_level</th>\n",
              "      <th>last_evaluation</th>\n",
              "      <th>number_project</th>\n",
              "      <th>average_montly_hours</th>\n",
              "      <th>time_spend_company</th>\n",
              "      <th>Work_accident</th>\n",
              "      <th>left</th>\n",
              "      <th>promotion_last_5years</th>\n",
              "      <th>Department_RandD</th>\n",
              "      <th>Department_accounting</th>\n",
              "      <th>Department_hr</th>\n",
              "      <th>Department_management</th>\n",
              "      <th>Department_marketing</th>\n",
              "      <th>Department_product_mng</th>\n",
              "      <th>Department_sales</th>\n",
              "      <th>Department_support</th>\n",
              "      <th>Department_technical</th>\n",
              "      <th>salary_low</th>\n",
              "      <th>salary_medium</th>\n",
              "    </tr>\n",
              "  </thead>\n",
              "  <tbody>\n",
              "    <tr>\n",
              "      <th>0</th>\n",
              "      <td>0.38</td>\n",
              "      <td>0.53</td>\n",
              "      <td>2</td>\n",
              "      <td>157</td>\n",
              "      <td>3</td>\n",
              "      <td>0</td>\n",
              "      <td>1</td>\n",
              "      <td>0</td>\n",
              "      <td>0</td>\n",
              "      <td>0</td>\n",
              "      <td>0</td>\n",
              "      <td>0</td>\n",
              "      <td>0</td>\n",
              "      <td>0</td>\n",
              "      <td>1</td>\n",
              "      <td>0</td>\n",
              "      <td>0</td>\n",
              "      <td>1</td>\n",
              "      <td>0</td>\n",
              "    </tr>\n",
              "    <tr>\n",
              "      <th>1</th>\n",
              "      <td>0.80</td>\n",
              "      <td>0.86</td>\n",
              "      <td>5</td>\n",
              "      <td>262</td>\n",
              "      <td>6</td>\n",
              "      <td>0</td>\n",
              "      <td>1</td>\n",
              "      <td>0</td>\n",
              "      <td>0</td>\n",
              "      <td>0</td>\n",
              "      <td>0</td>\n",
              "      <td>0</td>\n",
              "      <td>0</td>\n",
              "      <td>0</td>\n",
              "      <td>1</td>\n",
              "      <td>0</td>\n",
              "      <td>0</td>\n",
              "      <td>0</td>\n",
              "      <td>1</td>\n",
              "    </tr>\n",
              "  </tbody>\n",
              "</table>\n",
              "</div>"
            ],
            "text/plain": [
              "   satisfaction_level  last_evaluation  number_project  average_montly_hours  \\\n",
              "0                0.38             0.53               2                   157   \n",
              "1                0.80             0.86               5                   262   \n",
              "\n",
              "   time_spend_company  Work_accident  left  promotion_last_5years  \\\n",
              "0                   3              0     1                      0   \n",
              "1                   6              0     1                      0   \n",
              "\n",
              "   Department_RandD  Department_accounting  Department_hr  \\\n",
              "0                 0                      0              0   \n",
              "1                 0                      0              0   \n",
              "\n",
              "   Department_management  Department_marketing  Department_product_mng  \\\n",
              "0                      0                     0                       0   \n",
              "1                      0                     0                       0   \n",
              "\n",
              "   Department_sales  Department_support  Department_technical  salary_low  \\\n",
              "0                 1                   0                     0           1   \n",
              "1                 1                   0                     0           0   \n",
              "\n",
              "   salary_medium  \n",
              "0              0  \n",
              "1              1  "
            ]
          },
          "metadata": {
            "tags": []
          },
          "execution_count": 34
        }
      ]
    },
    {
      "cell_type": "code",
      "metadata": {
        "id": "_QecJtSh4ony",
        "outputId": "c8c4aa7a-02f1-4ebe-ab7a-812aa842bc90",
        "colab": {
          "base_uri": "https://localhost:8080/",
          "height": 68
        }
      },
      "source": [
        "df.left.value_counts()"
      ],
      "execution_count": null,
      "outputs": [
        {
          "output_type": "execute_result",
          "data": {
            "text/plain": [
              "0    11428\n",
              "1     3571\n",
              "Name: left, dtype: int64"
            ]
          },
          "metadata": {
            "tags": []
          },
          "execution_count": 35
        }
      ]
    },
    {
      "cell_type": "code",
      "metadata": {
        "id": "HxBjXr9J4wN3",
        "outputId": "d572d0fe-358f-4a44-8e7a-bc423f42c9e9",
        "colab": {
          "base_uri": "https://localhost:8080/",
          "height": 34
        }
      },
      "source": [
        "df.shape"
      ],
      "execution_count": null,
      "outputs": [
        {
          "output_type": "execute_result",
          "data": {
            "text/plain": [
              "(14999, 19)"
            ]
          },
          "metadata": {
            "tags": []
          },
          "execution_count": 36
        }
      ]
    },
    {
      "cell_type": "code",
      "metadata": {
        "id": "80HN-oMe4ynY",
        "outputId": "b3de7181-abe4-4c66-eaad-645b51290352",
        "colab": {
          "base_uri": "https://localhost:8080/",
          "height": 136
        }
      },
      "source": [
        "## Feature selection\n",
        "df.columns"
      ],
      "execution_count": null,
      "outputs": [
        {
          "output_type": "execute_result",
          "data": {
            "text/plain": [
              "Index(['satisfaction_level', 'last_evaluation', 'number_project',\n",
              "       'average_montly_hours', 'time_spend_company', 'Work_accident', 'left',\n",
              "       'promotion_last_5years', 'Department_RandD', 'Department_accounting',\n",
              "       'Department_hr', 'Department_management', 'Department_marketing',\n",
              "       'Department_product_mng', 'Department_sales', 'Department_support',\n",
              "       'Department_technical', 'salary_low', 'salary_medium'],\n",
              "      dtype='object')"
            ]
          },
          "metadata": {
            "tags": []
          },
          "execution_count": 38
        }
      ]
    },
    {
      "cell_type": "code",
      "metadata": {
        "id": "OXLnDSgq47uR"
      },
      "source": [
        "X=df.loc[:,['satisfaction_level', 'last_evaluation', 'number_project',\n",
        "       'average_montly_hours', 'time_spend_company', 'Work_accident', 'promotion_last_5years', 'Department_RandD', 'Department_accounting',\n",
        "       'Department_hr', 'Department_management', 'Department_marketing',\n",
        "       'Department_product_mng', 'Department_sales', 'Department_support',\n",
        "       'Department_technical', 'salary_low', 'salary_medium']]"
      ],
      "execution_count": null,
      "outputs": []
    },
    {
      "cell_type": "code",
      "metadata": {
        "id": "joAj3i0Z5Acn",
        "outputId": "55d5d278-17e8-42e1-b554-80716c9830da",
        "colab": {
          "base_uri": "https://localhost:8080/",
          "height": 224
        }
      },
      "source": [
        "X.head()"
      ],
      "execution_count": null,
      "outputs": [
        {
          "output_type": "execute_result",
          "data": {
            "text/html": [
              "<div>\n",
              "<style scoped>\n",
              "    .dataframe tbody tr th:only-of-type {\n",
              "        vertical-align: middle;\n",
              "    }\n",
              "\n",
              "    .dataframe tbody tr th {\n",
              "        vertical-align: top;\n",
              "    }\n",
              "\n",
              "    .dataframe thead th {\n",
              "        text-align: right;\n",
              "    }\n",
              "</style>\n",
              "<table border=\"1\" class=\"dataframe\">\n",
              "  <thead>\n",
              "    <tr style=\"text-align: right;\">\n",
              "      <th></th>\n",
              "      <th>satisfaction_level</th>\n",
              "      <th>last_evaluation</th>\n",
              "      <th>number_project</th>\n",
              "      <th>average_montly_hours</th>\n",
              "      <th>time_spend_company</th>\n",
              "      <th>Work_accident</th>\n",
              "      <th>promotion_last_5years</th>\n",
              "      <th>Department_RandD</th>\n",
              "      <th>Department_accounting</th>\n",
              "      <th>Department_hr</th>\n",
              "      <th>Department_management</th>\n",
              "      <th>Department_marketing</th>\n",
              "      <th>Department_product_mng</th>\n",
              "      <th>Department_sales</th>\n",
              "      <th>Department_support</th>\n",
              "      <th>Department_technical</th>\n",
              "      <th>salary_low</th>\n",
              "      <th>salary_medium</th>\n",
              "    </tr>\n",
              "  </thead>\n",
              "  <tbody>\n",
              "    <tr>\n",
              "      <th>0</th>\n",
              "      <td>0.38</td>\n",
              "      <td>0.53</td>\n",
              "      <td>2</td>\n",
              "      <td>157</td>\n",
              "      <td>3</td>\n",
              "      <td>0</td>\n",
              "      <td>0</td>\n",
              "      <td>0</td>\n",
              "      <td>0</td>\n",
              "      <td>0</td>\n",
              "      <td>0</td>\n",
              "      <td>0</td>\n",
              "      <td>0</td>\n",
              "      <td>1</td>\n",
              "      <td>0</td>\n",
              "      <td>0</td>\n",
              "      <td>1</td>\n",
              "      <td>0</td>\n",
              "    </tr>\n",
              "    <tr>\n",
              "      <th>1</th>\n",
              "      <td>0.80</td>\n",
              "      <td>0.86</td>\n",
              "      <td>5</td>\n",
              "      <td>262</td>\n",
              "      <td>6</td>\n",
              "      <td>0</td>\n",
              "      <td>0</td>\n",
              "      <td>0</td>\n",
              "      <td>0</td>\n",
              "      <td>0</td>\n",
              "      <td>0</td>\n",
              "      <td>0</td>\n",
              "      <td>0</td>\n",
              "      <td>1</td>\n",
              "      <td>0</td>\n",
              "      <td>0</td>\n",
              "      <td>0</td>\n",
              "      <td>1</td>\n",
              "    </tr>\n",
              "    <tr>\n",
              "      <th>2</th>\n",
              "      <td>0.11</td>\n",
              "      <td>0.88</td>\n",
              "      <td>7</td>\n",
              "      <td>272</td>\n",
              "      <td>4</td>\n",
              "      <td>0</td>\n",
              "      <td>0</td>\n",
              "      <td>0</td>\n",
              "      <td>0</td>\n",
              "      <td>0</td>\n",
              "      <td>0</td>\n",
              "      <td>0</td>\n",
              "      <td>0</td>\n",
              "      <td>1</td>\n",
              "      <td>0</td>\n",
              "      <td>0</td>\n",
              "      <td>0</td>\n",
              "      <td>1</td>\n",
              "    </tr>\n",
              "    <tr>\n",
              "      <th>3</th>\n",
              "      <td>0.72</td>\n",
              "      <td>0.87</td>\n",
              "      <td>5</td>\n",
              "      <td>223</td>\n",
              "      <td>5</td>\n",
              "      <td>0</td>\n",
              "      <td>0</td>\n",
              "      <td>0</td>\n",
              "      <td>0</td>\n",
              "      <td>0</td>\n",
              "      <td>0</td>\n",
              "      <td>0</td>\n",
              "      <td>0</td>\n",
              "      <td>1</td>\n",
              "      <td>0</td>\n",
              "      <td>0</td>\n",
              "      <td>1</td>\n",
              "      <td>0</td>\n",
              "    </tr>\n",
              "    <tr>\n",
              "      <th>4</th>\n",
              "      <td>0.37</td>\n",
              "      <td>0.52</td>\n",
              "      <td>2</td>\n",
              "      <td>159</td>\n",
              "      <td>3</td>\n",
              "      <td>0</td>\n",
              "      <td>0</td>\n",
              "      <td>0</td>\n",
              "      <td>0</td>\n",
              "      <td>0</td>\n",
              "      <td>0</td>\n",
              "      <td>0</td>\n",
              "      <td>0</td>\n",
              "      <td>1</td>\n",
              "      <td>0</td>\n",
              "      <td>0</td>\n",
              "      <td>1</td>\n",
              "      <td>0</td>\n",
              "    </tr>\n",
              "  </tbody>\n",
              "</table>\n",
              "</div>"
            ],
            "text/plain": [
              "   satisfaction_level  last_evaluation  number_project  average_montly_hours  \\\n",
              "0                0.38             0.53               2                   157   \n",
              "1                0.80             0.86               5                   262   \n",
              "2                0.11             0.88               7                   272   \n",
              "3                0.72             0.87               5                   223   \n",
              "4                0.37             0.52               2                   159   \n",
              "\n",
              "   time_spend_company  Work_accident  promotion_last_5years  Department_RandD  \\\n",
              "0                   3              0                      0                 0   \n",
              "1                   6              0                      0                 0   \n",
              "2                   4              0                      0                 0   \n",
              "3                   5              0                      0                 0   \n",
              "4                   3              0                      0                 0   \n",
              "\n",
              "   Department_accounting  Department_hr  Department_management  \\\n",
              "0                      0              0                      0   \n",
              "1                      0              0                      0   \n",
              "2                      0              0                      0   \n",
              "3                      0              0                      0   \n",
              "4                      0              0                      0   \n",
              "\n",
              "   Department_marketing  Department_product_mng  Department_sales  \\\n",
              "0                     0                       0                 1   \n",
              "1                     0                       0                 1   \n",
              "2                     0                       0                 1   \n",
              "3                     0                       0                 1   \n",
              "4                     0                       0                 1   \n",
              "\n",
              "   Department_support  Department_technical  salary_low  salary_medium  \n",
              "0                   0                     0           1              0  \n",
              "1                   0                     0           0              1  \n",
              "2                   0                     0           0              1  \n",
              "3                   0                     0           1              0  \n",
              "4                   0                     0           1              0  "
            ]
          },
          "metadata": {
            "tags": []
          },
          "execution_count": 40
        }
      ]
    },
    {
      "cell_type": "code",
      "metadata": {
        "id": "F-TdFaL85Ce_",
        "outputId": "6939df65-f35a-4367-dd6f-73bd82a95e96",
        "colab": {
          "base_uri": "https://localhost:8080/",
          "height": 119
        }
      },
      "source": [
        "y=df.iloc[:,6]\n",
        "y.head()"
      ],
      "execution_count": null,
      "outputs": [
        {
          "output_type": "execute_result",
          "data": {
            "text/plain": [
              "0    1\n",
              "1    1\n",
              "2    1\n",
              "3    1\n",
              "4    1\n",
              "Name: left, dtype: int64"
            ]
          },
          "metadata": {
            "tags": []
          },
          "execution_count": 41
        }
      ]
    },
    {
      "cell_type": "code",
      "metadata": {
        "id": "rXWaOWzt5NKh",
        "outputId": "83785b9b-4bb5-49ef-f5b6-5de9fd3fb99d",
        "colab": {
          "base_uri": "https://localhost:8080/",
          "height": 1000
        }
      },
      "source": [
        "plt.figure(figsize=(25,25))\n",
        "sns.heatmap(df.corr(),annot=True,cmap='RdYlGn')\n",
        "plt.show()"
      ],
      "execution_count": null,
      "outputs": [
        {
          "output_type": "display_data",
          "data": {
            "image/png": "[encoded data removed]",
            "text/plain": [
              "<Figure size 1800x1800 with 2 Axes>"
            ]
          },
          "metadata": {
            "tags": [],
            "needs_background": "light"
          }
        }
      ]
    },
    {
      "cell_type": "code",
      "metadata": {
        "id": "oXAUOO6d5ULA"
      },
      "source": [
        "# spliting the dataset into training set and test set\n",
        "from sklearn.model_selection import train_test_split\n",
        "X_train,X_test,y_train,y_test=train_test_split(X,y,test_size=0.2,random_state=0)"
      ],
      "execution_count": null,
      "outputs": []
    },
    {
      "cell_type": "code",
      "metadata": {
        "id": "EaaLyphB503n",
        "outputId": "6a1495af-71f2-4a25-9736-654102cdccfa",
        "colab": {
          "base_uri": "https://localhost:8080/",
          "height": 85
        }
      },
      "source": [
        "print(X_train.shape)\n",
        "print(y_train.shape)\n",
        "print(X_test.shape)\n",
        "print(y_test.shape)"
      ],
      "execution_count": null,
      "outputs": [
        {
          "output_type": "stream",
          "text": [
            "(11999, 18)\n",
            "(11999,)\n",
            "(3000, 18)\n",
            "(3000,)\n"
          ],
          "name": "stdout"
        }
      ]
    },
    {
      "cell_type": "code",
      "metadata": {
        "id": "kfj70b7O54Lj"
      },
      "source": [
        "# Feature Scaling \n",
        "from sklearn.preprocessing import StandardScaler\n",
        "scaler=StandardScaler()\n",
        "X_train=scaler.fit_transform(X_train)\n",
        "X_test=scaler.fit_transform(X_test)"
      ],
      "execution_count": null,
      "outputs": []
    },
    {
      "cell_type": "code",
      "metadata": {
        "id": "53d384S16cq1"
      },
      "source": [
        "# importing the keras libraries and package\n",
        "import keras \n",
        "from keras.models import Sequential\n",
        "from keras.layers import Dense\n",
        "from keras.layers import LeakyReLU,PReLU,ELU\n",
        "from keras.layers import Dropout"
      ],
      "execution_count": null,
      "outputs": []
    },
    {
      "cell_type": "code",
      "metadata": {
        "id": "B9mrLiLe65KO"
      },
      "source": [
        "# initialising the ANN\n",
        "model=Sequential()"
      ],
      "execution_count": null,
      "outputs": []
    },
    {
      "cell_type": "code",
      "metadata": {
        "id": "SlLryzdm7gBL",
        "outputId": "c29dca70-3b02-4fcf-c094-8931d1d60ad0",
        "colab": {
          "base_uri": "https://localhost:8080/",
          "height": 34
        }
      },
      "source": [
        "len(X.columns)"
      ],
      "execution_count": null,
      "outputs": [
        {
          "output_type": "execute_result",
          "data": {
            "text/plain": [
              "18"
            ]
          },
          "metadata": {
            "tags": []
          },
          "execution_count": 48
        }
      ]
    },
    {
      "cell_type": "code",
      "metadata": {
        "id": "VOYyfBV67CF_"
      },
      "source": [
        "# Adding the input layer and the first hidden layer\n",
        "model.add(Dense(units=6,kernel_initializer='he_uniform',activation='relu',input_dim=18))"
      ],
      "execution_count": null,
      "outputs": []
    },
    {
      "cell_type": "code",
      "metadata": {
        "id": "UKT1qNw27ouq"
      },
      "source": [
        "# Adding the second hidden layer\n",
        "model.add(Dense(units=6,kernel_initializer='he_uniform',activation='relu'))"
      ],
      "execution_count": null,
      "outputs": []
    },
    {
      "cell_type": "code",
      "metadata": {
        "id": "KoO7WY5M8Fc5"
      },
      "source": [
        "# Adding the output layers\n",
        "model.add(Dense(units=1,activation='sigmoid'))"
      ],
      "execution_count": null,
      "outputs": []
    },
    {
      "cell_type": "code",
      "metadata": {
        "id": "GY4Y0eBZ8UwT"
      },
      "source": [
        "# compile the ANN\n",
        "model.compile(optimizer='adam',loss='binary_crossentropy',metrics=['accuracy'])\n"
      ],
      "execution_count": null,
      "outputs": []
    },
    {
      "cell_type": "code",
      "metadata": {
        "id": "61J5TBjZ8mr3",
        "outputId": "e08f1001-776c-49a0-b579-1d662b2f6de6",
        "colab": {
          "base_uri": "https://localhost:8080/",
          "height": 1000
        }
      },
      "source": [
        "# Fitting the ANN to the tarining set\n",
        "model_histroy=model.fit(X_train,y_train,validation_split=0.33,batch_size=10,epochs=150)"
      ],
      "execution_count": null,
      "outputs": [
        {
          "output_type": "stream",
          "text": [
            "Epoch 1/150\n",
            "804/804 [==============================] - 2s 3ms/step - loss: 0.5267 - accuracy: 0.7431 - val_loss: 0.4301 - val_accuracy: 0.7778\n",
            "Epoch 2/150\n",
            "804/804 [==============================] - 2s 3ms/step - loss: 0.3805 - accuracy: 0.8158 - val_loss: 0.3354 - val_accuracy: 0.8472\n",
            "Epoch 3/150\n",
            "804/804 [==============================] - 2s 3ms/step - loss: 0.2969 - accuracy: 0.8638 - val_loss: 0.2646 - val_accuracy: 0.8922\n",
            "Epoch 4/150\n",
            "804/804 [==============================] - 2s 3ms/step - loss: 0.2433 - accuracy: 0.9070 - val_loss: 0.2226 - val_accuracy: 0.9205\n",
            "Epoch 5/150\n",
            "804/804 [==============================] - 2s 3ms/step - loss: 0.2130 - accuracy: 0.9256 - val_loss: 0.2031 - val_accuracy: 0.9341\n",
            "Epoch 6/150\n",
            "804/804 [==============================] - 2s 3ms/step - loss: 0.1971 - accuracy: 0.9352 - val_loss: 0.1893 - val_accuracy: 0.9394\n",
            "Epoch 7/150\n",
            "804/804 [==============================] - 2s 3ms/step - loss: 0.1871 - accuracy: 0.9407 - val_loss: 0.1821 - val_accuracy: 0.9409\n",
            "Epoch 8/150\n",
            "804/804 [==============================] - 2s 3ms/step - loss: 0.1808 - accuracy: 0.9430 - val_loss: 0.1773 - val_accuracy: 0.9455\n",
            "Epoch 9/150\n",
            "804/804 [==============================] - 2s 3ms/step - loss: 0.1756 - accuracy: 0.9455 - val_loss: 0.1736 - val_accuracy: 0.9452\n",
            "Epoch 10/150\n",
            "804/804 [==============================] - 2s 3ms/step - loss: 0.1718 - accuracy: 0.9461 - val_loss: 0.1720 - val_accuracy: 0.9482\n",
            "Epoch 11/150\n",
            "804/804 [==============================] - 2s 3ms/step - loss: 0.1695 - accuracy: 0.9474 - val_loss: 0.1696 - val_accuracy: 0.9487\n",
            "Epoch 12/150\n",
            "804/804 [==============================] - 2s 3ms/step - loss: 0.1672 - accuracy: 0.9484 - val_loss: 0.1674 - val_accuracy: 0.9487\n",
            "Epoch 13/150\n",
            "804/804 [==============================] - 2s 3ms/step - loss: 0.1647 - accuracy: 0.9512 - val_loss: 0.1678 - val_accuracy: 0.9480\n",
            "Epoch 14/150\n",
            "804/804 [==============================] - 2s 3ms/step - loss: 0.1636 - accuracy: 0.9499 - val_loss: 0.1659 - val_accuracy: 0.9503\n",
            "Epoch 15/150\n",
            "804/804 [==============================] - 2s 3ms/step - loss: 0.1611 - accuracy: 0.9496 - val_loss: 0.1664 - val_accuracy: 0.9520\n",
            "Epoch 16/150\n",
            "804/804 [==============================] - 2s 3ms/step - loss: 0.1604 - accuracy: 0.9512 - val_loss: 0.1629 - val_accuracy: 0.9510\n",
            "Epoch 17/150\n",
            "804/804 [==============================] - 2s 3ms/step - loss: 0.1588 - accuracy: 0.9511 - val_loss: 0.1622 - val_accuracy: 0.9540\n",
            "Epoch 18/150\n",
            "804/804 [==============================] - 2s 3ms/step - loss: 0.1577 - accuracy: 0.9512 - val_loss: 0.1608 - val_accuracy: 0.9538\n",
            "Epoch 19/150\n",
            "804/804 [==============================] - 2s 3ms/step - loss: 0.1557 - accuracy: 0.9519 - val_loss: 0.1606 - val_accuracy: 0.9538\n",
            "Epoch 20/150\n",
            "804/804 [==============================] - 2s 3ms/step - loss: 0.1545 - accuracy: 0.9545 - val_loss: 0.1593 - val_accuracy: 0.9535\n",
            "Epoch 21/150\n",
            "804/804 [==============================] - 2s 3ms/step - loss: 0.1538 - accuracy: 0.9532 - val_loss: 0.1591 - val_accuracy: 0.9525\n",
            "Epoch 22/150\n",
            "804/804 [==============================] - 2s 3ms/step - loss: 0.1529 - accuracy: 0.9535 - val_loss: 0.1570 - val_accuracy: 0.9553\n",
            "Epoch 23/150\n",
            "804/804 [==============================] - 2s 3ms/step - loss: 0.1519 - accuracy: 0.9542 - val_loss: 0.1556 - val_accuracy: 0.9571\n",
            "Epoch 24/150\n",
            "804/804 [==============================] - 2s 3ms/step - loss: 0.1501 - accuracy: 0.9566 - val_loss: 0.1566 - val_accuracy: 0.9515\n",
            "Epoch 25/150\n",
            "804/804 [==============================] - 2s 3ms/step - loss: 0.1497 - accuracy: 0.9565 - val_loss: 0.1541 - val_accuracy: 0.9571\n",
            "Epoch 26/150\n",
            "804/804 [==============================] - 2s 3ms/step - loss: 0.1490 - accuracy: 0.9560 - val_loss: 0.1549 - val_accuracy: 0.9558\n",
            "Epoch 27/150\n",
            "804/804 [==============================] - 2s 3ms/step - loss: 0.1483 - accuracy: 0.9546 - val_loss: 0.1516 - val_accuracy: 0.9573\n",
            "Epoch 28/150\n",
            "804/804 [==============================] - 2s 3ms/step - loss: 0.1476 - accuracy: 0.9573 - val_loss: 0.1517 - val_accuracy: 0.9558\n",
            "Epoch 29/150\n",
            "804/804 [==============================] - 2s 3ms/step - loss: 0.1473 - accuracy: 0.9562 - val_loss: 0.1515 - val_accuracy: 0.9583\n",
            "Epoch 30/150\n",
            "804/804 [==============================] - 2s 3ms/step - loss: 0.1470 - accuracy: 0.9561 - val_loss: 0.1504 - val_accuracy: 0.9571\n",
            "Epoch 31/150\n",
            "804/804 [==============================] - 2s 3ms/step - loss: 0.1460 - accuracy: 0.9577 - val_loss: 0.1508 - val_accuracy: 0.9568\n",
            "Epoch 32/150\n",
            "804/804 [==============================] - 2s 3ms/step - loss: 0.1460 - accuracy: 0.9582 - val_loss: 0.1500 - val_accuracy: 0.9576\n",
            "Epoch 33/150\n",
            "804/804 [==============================] - 2s 3ms/step - loss: 0.1456 - accuracy: 0.9565 - val_loss: 0.1497 - val_accuracy: 0.9558\n",
            "Epoch 34/150\n",
            "804/804 [==============================] - 2s 3ms/step - loss: 0.1450 - accuracy: 0.9576 - val_loss: 0.1493 - val_accuracy: 0.9578\n",
            "Epoch 35/150\n",
            "804/804 [==============================] - 2s 3ms/step - loss: 0.1446 - accuracy: 0.9591 - val_loss: 0.1486 - val_accuracy: 0.9568\n",
            "Epoch 36/150\n",
            "804/804 [==============================] - 2s 3ms/step - loss: 0.1437 - accuracy: 0.9571 - val_loss: 0.1488 - val_accuracy: 0.9566\n",
            "Epoch 37/150\n",
            "804/804 [==============================] - 2s 3ms/step - loss: 0.1436 - accuracy: 0.9588 - val_loss: 0.1481 - val_accuracy: 0.9578\n",
            "Epoch 38/150\n",
            "804/804 [==============================] - 3s 3ms/step - loss: 0.1423 - accuracy: 0.9586 - val_loss: 0.1521 - val_accuracy: 0.9586\n",
            "Epoch 39/150\n",
            "804/804 [==============================] - 3s 3ms/step - loss: 0.1428 - accuracy: 0.9587 - val_loss: 0.1474 - val_accuracy: 0.9571\n",
            "Epoch 40/150\n",
            "804/804 [==============================] - 3s 3ms/step - loss: 0.1424 - accuracy: 0.9586 - val_loss: 0.1470 - val_accuracy: 0.9583\n",
            "Epoch 41/150\n",
            "804/804 [==============================] - 2s 3ms/step - loss: 0.1417 - accuracy: 0.9587 - val_loss: 0.1468 - val_accuracy: 0.9588\n",
            "Epoch 42/150\n",
            "804/804 [==============================] - 2s 3ms/step - loss: 0.1412 - accuracy: 0.9593 - val_loss: 0.1453 - val_accuracy: 0.9581\n",
            "Epoch 43/150\n",
            "804/804 [==============================] - 2s 3ms/step - loss: 0.1397 - accuracy: 0.9588 - val_loss: 0.1445 - val_accuracy: 0.9586\n",
            "Epoch 44/150\n",
            "804/804 [==============================] - 2s 3ms/step - loss: 0.1394 - accuracy: 0.9590 - val_loss: 0.1436 - val_accuracy: 0.9596\n",
            "Epoch 45/150\n",
            "804/804 [==============================] - 2s 3ms/step - loss: 0.1375 - accuracy: 0.9588 - val_loss: 0.1426 - val_accuracy: 0.9573\n",
            "Epoch 46/150\n",
            "804/804 [==============================] - 2s 3ms/step - loss: 0.1365 - accuracy: 0.9594 - val_loss: 0.1428 - val_accuracy: 0.9583\n",
            "Epoch 47/150\n",
            "804/804 [==============================] - 2s 3ms/step - loss: 0.1347 - accuracy: 0.9604 - val_loss: 0.1393 - val_accuracy: 0.9588\n",
            "Epoch 48/150\n",
            "804/804 [==============================] - 2s 3ms/step - loss: 0.1337 - accuracy: 0.9599 - val_loss: 0.1389 - val_accuracy: 0.9601\n",
            "Epoch 49/150\n",
            "804/804 [==============================] - 2s 3ms/step - loss: 0.1324 - accuracy: 0.9612 - val_loss: 0.1375 - val_accuracy: 0.9596\n",
            "Epoch 50/150\n",
            "804/804 [==============================] - 2s 3ms/step - loss: 0.1311 - accuracy: 0.9608 - val_loss: 0.1380 - val_accuracy: 0.9586\n",
            "Epoch 51/150\n",
            "804/804 [==============================] - 2s 3ms/step - loss: 0.1306 - accuracy: 0.9611 - val_loss: 0.1365 - val_accuracy: 0.9588\n",
            "Epoch 52/150\n",
            "804/804 [==============================] - 2s 3ms/step - loss: 0.1292 - accuracy: 0.9616 - val_loss: 0.1351 - val_accuracy: 0.9593\n",
            "Epoch 53/150\n",
            "804/804 [==============================] - 2s 3ms/step - loss: 0.1277 - accuracy: 0.9629 - val_loss: 0.1385 - val_accuracy: 0.9624\n",
            "Epoch 54/150\n",
            "804/804 [==============================] - 2s 3ms/step - loss: 0.1272 - accuracy: 0.9629 - val_loss: 0.1371 - val_accuracy: 0.9581\n",
            "Epoch 55/150\n",
            "804/804 [==============================] - 2s 3ms/step - loss: 0.1268 - accuracy: 0.9621 - val_loss: 0.1345 - val_accuracy: 0.9624\n",
            "Epoch 56/150\n",
            "804/804 [==============================] - 2s 3ms/step - loss: 0.1260 - accuracy: 0.9624 - val_loss: 0.1350 - val_accuracy: 0.9619\n",
            "Epoch 57/150\n",
            "804/804 [==============================] - 2s 3ms/step - loss: 0.1257 - accuracy: 0.9639 - val_loss: 0.1363 - val_accuracy: 0.9614\n",
            "Epoch 58/150\n",
            "804/804 [==============================] - 2s 3ms/step - loss: 0.1250 - accuracy: 0.9637 - val_loss: 0.1344 - val_accuracy: 0.9614\n",
            "Epoch 59/150\n",
            "804/804 [==============================] - 2s 3ms/step - loss: 0.1248 - accuracy: 0.9636 - val_loss: 0.1331 - val_accuracy: 0.9639\n",
            "Epoch 60/150\n",
            "804/804 [==============================] - 2s 3ms/step - loss: 0.1245 - accuracy: 0.9639 - val_loss: 0.1331 - val_accuracy: 0.9621\n",
            "Epoch 61/150\n",
            "804/804 [==============================] - 2s 3ms/step - loss: 0.1236 - accuracy: 0.9643 - val_loss: 0.1327 - val_accuracy: 0.9614\n",
            "Epoch 62/150\n",
            "804/804 [==============================] - 2s 3ms/step - loss: 0.1233 - accuracy: 0.9647 - val_loss: 0.1346 - val_accuracy: 0.9621\n",
            "Epoch 63/150\n",
            "804/804 [==============================] - 2s 3ms/step - loss: 0.1236 - accuracy: 0.9649 - val_loss: 0.1333 - val_accuracy: 0.9626\n",
            "Epoch 64/150\n",
            "804/804 [==============================] - 2s 3ms/step - loss: 0.1231 - accuracy: 0.9652 - val_loss: 0.1326 - val_accuracy: 0.9636\n",
            "Epoch 65/150\n",
            "804/804 [==============================] - 2s 3ms/step - loss: 0.1230 - accuracy: 0.9647 - val_loss: 0.1346 - val_accuracy: 0.9639\n",
            "Epoch 66/150\n",
            "804/804 [==============================] - 2s 3ms/step - loss: 0.1223 - accuracy: 0.9657 - val_loss: 0.1328 - val_accuracy: 0.9629\n",
            "Epoch 67/150\n",
            "804/804 [==============================] - 2s 3ms/step - loss: 0.1219 - accuracy: 0.9647 - val_loss: 0.1335 - val_accuracy: 0.9641\n",
            "Epoch 68/150\n",
            "804/804 [==============================] - 2s 3ms/step - loss: 0.1224 - accuracy: 0.9648 - val_loss: 0.1322 - val_accuracy: 0.9624\n",
            "Epoch 69/150\n",
            "804/804 [==============================] - 2s 3ms/step - loss: 0.1219 - accuracy: 0.9647 - val_loss: 0.1323 - val_accuracy: 0.9616\n",
            "Epoch 70/150\n",
            "804/804 [==============================] - 2s 3ms/step - loss: 0.1219 - accuracy: 0.9653 - val_loss: 0.1355 - val_accuracy: 0.9619\n",
            "Epoch 71/150\n",
            "804/804 [==============================] - 2s 3ms/step - loss: 0.1217 - accuracy: 0.9657 - val_loss: 0.1326 - val_accuracy: 0.9621\n",
            "Epoch 72/150\n",
            "804/804 [==============================] - 2s 3ms/step - loss: 0.1215 - accuracy: 0.9648 - val_loss: 0.1327 - val_accuracy: 0.9629\n",
            "Epoch 73/150\n",
            "804/804 [==============================] - 2s 3ms/step - loss: 0.1214 - accuracy: 0.9662 - val_loss: 0.1339 - val_accuracy: 0.9626\n",
            "Epoch 74/150\n",
            "804/804 [==============================] - 2s 3ms/step - loss: 0.1214 - accuracy: 0.9662 - val_loss: 0.1328 - val_accuracy: 0.9634\n",
            "Epoch 75/150\n",
            "804/804 [==============================] - 2s 3ms/step - loss: 0.1203 - accuracy: 0.9662 - val_loss: 0.1316 - val_accuracy: 0.9624\n",
            "Epoch 76/150\n",
            "804/804 [==============================] - 2s 3ms/step - loss: 0.1209 - accuracy: 0.9662 - val_loss: 0.1313 - val_accuracy: 0.9631\n",
            "Epoch 77/150\n",
            "804/804 [==============================] - 2s 3ms/step - loss: 0.1193 - accuracy: 0.9662 - val_loss: 0.1346 - val_accuracy: 0.9639\n",
            "Epoch 78/150\n",
            "804/804 [==============================] - 2s 3ms/step - loss: 0.1189 - accuracy: 0.9668 - val_loss: 0.1325 - val_accuracy: 0.9641\n",
            "Epoch 79/150\n",
            "804/804 [==============================] - 2s 3ms/step - loss: 0.1199 - accuracy: 0.9660 - val_loss: 0.1308 - val_accuracy: 0.9641\n",
            "Epoch 80/150\n",
            "804/804 [==============================] - 2s 3ms/step - loss: 0.1193 - accuracy: 0.9670 - val_loss: 0.1319 - val_accuracy: 0.9639\n",
            "Epoch 81/150\n",
            "804/804 [==============================] - 2s 3ms/step - loss: 0.1189 - accuracy: 0.9664 - val_loss: 0.1306 - val_accuracy: 0.9639\n",
            "Epoch 82/150\n",
            "804/804 [==============================] - 2s 3ms/step - loss: 0.1193 - accuracy: 0.9662 - val_loss: 0.1305 - val_accuracy: 0.9654\n",
            "Epoch 83/150\n",
            "804/804 [==============================] - 2s 3ms/step - loss: 0.1181 - accuracy: 0.9667 - val_loss: 0.1309 - val_accuracy: 0.9644\n",
            "Epoch 84/150\n",
            "804/804 [==============================] - 2s 3ms/step - loss: 0.1182 - accuracy: 0.9677 - val_loss: 0.1325 - val_accuracy: 0.9614\n",
            "Epoch 85/150\n",
            "804/804 [==============================] - 2s 3ms/step - loss: 0.1182 - accuracy: 0.9672 - val_loss: 0.1326 - val_accuracy: 0.9639\n",
            "Epoch 86/150\n",
            "804/804 [==============================] - 2s 3ms/step - loss: 0.1174 - accuracy: 0.9674 - val_loss: 0.1296 - val_accuracy: 0.9641\n",
            "Epoch 87/150\n",
            "804/804 [==============================] - 2s 3ms/step - loss: 0.1176 - accuracy: 0.9673 - val_loss: 0.1320 - val_accuracy: 0.9636\n",
            "Epoch 88/150\n",
            "804/804 [==============================] - 2s 3ms/step - loss: 0.1171 - accuracy: 0.9668 - val_loss: 0.1321 - val_accuracy: 0.9629\n",
            "Epoch 89/150\n",
            "804/804 [==============================] - 2s 3ms/step - loss: 0.1173 - accuracy: 0.9672 - val_loss: 0.1291 - val_accuracy: 0.9654\n",
            "Epoch 90/150\n",
            "804/804 [==============================] - 2s 3ms/step - loss: 0.1174 - accuracy: 0.9675 - val_loss: 0.1296 - val_accuracy: 0.9657\n",
            "Epoch 91/150\n",
            "804/804 [==============================] - 2s 3ms/step - loss: 0.1167 - accuracy: 0.9682 - val_loss: 0.1319 - val_accuracy: 0.9644\n",
            "Epoch 92/150\n",
            "804/804 [==============================] - 2s 3ms/step - loss: 0.1174 - accuracy: 0.9665 - val_loss: 0.1315 - val_accuracy: 0.9641\n",
            "Epoch 93/150\n",
            "804/804 [==============================] - 2s 3ms/step - loss: 0.1168 - accuracy: 0.9672 - val_loss: 0.1301 - val_accuracy: 0.9649\n",
            "Epoch 94/150\n",
            "804/804 [==============================] - 2s 3ms/step - loss: 0.1165 - accuracy: 0.9675 - val_loss: 0.1306 - val_accuracy: 0.9667\n",
            "Epoch 95/150\n",
            "804/804 [==============================] - 2s 3ms/step - loss: 0.1168 - accuracy: 0.9679 - val_loss: 0.1312 - val_accuracy: 0.9654\n",
            "Epoch 96/150\n",
            "804/804 [==============================] - 2s 3ms/step - loss: 0.1166 - accuracy: 0.9677 - val_loss: 0.1309 - val_accuracy: 0.9662\n",
            "Epoch 97/150\n",
            "804/804 [==============================] - 2s 3ms/step - loss: 0.1164 - accuracy: 0.9678 - val_loss: 0.1306 - val_accuracy: 0.9657\n",
            "Epoch 98/150\n",
            "804/804 [==============================] - 2s 3ms/step - loss: 0.1158 - accuracy: 0.9670 - val_loss: 0.1339 - val_accuracy: 0.9644\n",
            "Epoch 99/150\n",
            "804/804 [==============================] - 2s 3ms/step - loss: 0.1166 - accuracy: 0.9670 - val_loss: 0.1325 - val_accuracy: 0.9657\n",
            "Epoch 100/150\n",
            "804/804 [==============================] - 2s 3ms/step - loss: 0.1165 - accuracy: 0.9685 - val_loss: 0.1319 - val_accuracy: 0.9662\n",
            "Epoch 101/150\n",
            "804/804 [==============================] - 2s 3ms/step - loss: 0.1156 - accuracy: 0.9687 - val_loss: 0.1342 - val_accuracy: 0.9639\n",
            "Epoch 102/150\n",
            "804/804 [==============================] - 2s 3ms/step - loss: 0.1153 - accuracy: 0.9683 - val_loss: 0.1358 - val_accuracy: 0.9641\n",
            "Epoch 103/150\n",
            "804/804 [==============================] - 2s 3ms/step - loss: 0.1166 - accuracy: 0.9683 - val_loss: 0.1325 - val_accuracy: 0.9652\n",
            "Epoch 104/150\n",
            "804/804 [==============================] - 2s 3ms/step - loss: 0.1159 - accuracy: 0.9682 - val_loss: 0.1317 - val_accuracy: 0.9664\n",
            "Epoch 105/150\n",
            "804/804 [==============================] - 2s 3ms/step - loss: 0.1154 - accuracy: 0.9687 - val_loss: 0.1308 - val_accuracy: 0.9657\n",
            "Epoch 106/150\n",
            "804/804 [==============================] - 2s 3ms/step - loss: 0.1162 - accuracy: 0.9680 - val_loss: 0.1313 - val_accuracy: 0.9662\n",
            "Epoch 107/150\n",
            "804/804 [==============================] - 2s 3ms/step - loss: 0.1154 - accuracy: 0.9680 - val_loss: 0.1341 - val_accuracy: 0.9639\n",
            "Epoch 108/150\n",
            "804/804 [==============================] - 2s 3ms/step - loss: 0.1155 - accuracy: 0.9688 - val_loss: 0.1313 - val_accuracy: 0.9664\n",
            "Epoch 109/150\n",
            "804/804 [==============================] - 2s 3ms/step - loss: 0.1155 - accuracy: 0.9678 - val_loss: 0.1325 - val_accuracy: 0.9646\n",
            "Epoch 110/150\n",
            "804/804 [==============================] - 2s 3ms/step - loss: 0.1156 - accuracy: 0.9679 - val_loss: 0.1314 - val_accuracy: 0.9652\n",
            "Epoch 111/150\n",
            "804/804 [==============================] - 2s 3ms/step - loss: 0.1154 - accuracy: 0.9689 - val_loss: 0.1321 - val_accuracy: 0.9659\n",
            "Epoch 112/150\n",
            "804/804 [==============================] - 2s 3ms/step - loss: 0.1150 - accuracy: 0.9684 - val_loss: 0.1339 - val_accuracy: 0.9649\n",
            "Epoch 113/150\n",
            "804/804 [==============================] - 2s 3ms/step - loss: 0.1161 - accuracy: 0.9677 - val_loss: 0.1305 - val_accuracy: 0.9659\n",
            "Epoch 114/150\n",
            "804/804 [==============================] - 2s 3ms/step - loss: 0.1151 - accuracy: 0.9687 - val_loss: 0.1310 - val_accuracy: 0.9659\n",
            "Epoch 115/150\n",
            "804/804 [==============================] - 2s 3ms/step - loss: 0.1150 - accuracy: 0.9687 - val_loss: 0.1316 - val_accuracy: 0.9654\n",
            "Epoch 116/150\n",
            "804/804 [==============================] - 2s 3ms/step - loss: 0.1151 - accuracy: 0.9694 - val_loss: 0.1332 - val_accuracy: 0.9659\n",
            "Epoch 117/150\n",
            "804/804 [==============================] - 2s 3ms/step - loss: 0.1154 - accuracy: 0.9694 - val_loss: 0.1379 - val_accuracy: 0.9631\n",
            "Epoch 118/150\n",
            "804/804 [==============================] - 2s 3ms/step - loss: 0.1154 - accuracy: 0.9684 - val_loss: 0.1325 - val_accuracy: 0.9644\n",
            "Epoch 119/150\n",
            "804/804 [==============================] - 2s 3ms/step - loss: 0.1155 - accuracy: 0.9687 - val_loss: 0.1322 - val_accuracy: 0.9657\n",
            "Epoch 120/150\n",
            "804/804 [==============================] - 2s 3ms/step - loss: 0.1152 - accuracy: 0.9687 - val_loss: 0.1334 - val_accuracy: 0.9649\n",
            "Epoch 121/150\n",
            "804/804 [==============================] - 2s 3ms/step - loss: 0.1146 - accuracy: 0.9690 - val_loss: 0.1340 - val_accuracy: 0.9654\n",
            "Epoch 122/150\n",
            "804/804 [==============================] - 2s 3ms/step - loss: 0.1154 - accuracy: 0.9693 - val_loss: 0.1300 - val_accuracy: 0.9659\n",
            "Epoch 123/150\n",
            "804/804 [==============================] - 2s 3ms/step - loss: 0.1146 - accuracy: 0.9687 - val_loss: 0.1325 - val_accuracy: 0.9652\n",
            "Epoch 124/150\n",
            "804/804 [==============================] - 2s 3ms/step - loss: 0.1147 - accuracy: 0.9699 - val_loss: 0.1349 - val_accuracy: 0.9646\n",
            "Epoch 125/150\n",
            "804/804 [==============================] - 2s 3ms/step - loss: 0.1146 - accuracy: 0.9689 - val_loss: 0.1325 - val_accuracy: 0.9646\n",
            "Epoch 126/150\n",
            "804/804 [==============================] - 2s 3ms/step - loss: 0.1145 - accuracy: 0.9690 - val_loss: 0.1322 - val_accuracy: 0.9659\n",
            "Epoch 127/150\n",
            "804/804 [==============================] - 2s 3ms/step - loss: 0.1146 - accuracy: 0.9684 - val_loss: 0.1366 - val_accuracy: 0.9641\n",
            "Epoch 128/150\n",
            "804/804 [==============================] - 2s 3ms/step - loss: 0.1141 - accuracy: 0.9696 - val_loss: 0.1341 - val_accuracy: 0.9639\n",
            "Epoch 129/150\n",
            "804/804 [==============================] - 2s 3ms/step - loss: 0.1148 - accuracy: 0.9689 - val_loss: 0.1313 - val_accuracy: 0.9654\n",
            "Epoch 130/150\n",
            "804/804 [==============================] - 2s 3ms/step - loss: 0.1147 - accuracy: 0.9694 - val_loss: 0.1316 - val_accuracy: 0.9657\n",
            "Epoch 131/150\n",
            "804/804 [==============================] - 2s 3ms/step - loss: 0.1146 - accuracy: 0.9699 - val_loss: 0.1324 - val_accuracy: 0.9641\n",
            "Epoch 132/150\n",
            "804/804 [==============================] - 2s 3ms/step - loss: 0.1149 - accuracy: 0.9689 - val_loss: 0.1317 - val_accuracy: 0.9657\n",
            "Epoch 133/150\n",
            "804/804 [==============================] - 3s 3ms/step - loss: 0.1140 - accuracy: 0.9700 - val_loss: 0.1318 - val_accuracy: 0.9652\n",
            "Epoch 134/150\n",
            "804/804 [==============================] - 2s 3ms/step - loss: 0.1141 - accuracy: 0.9693 - val_loss: 0.1341 - val_accuracy: 0.9649\n",
            "Epoch 135/150\n",
            "804/804 [==============================] - 2s 3ms/step - loss: 0.1140 - accuracy: 0.9696 - val_loss: 0.1350 - val_accuracy: 0.9634\n",
            "Epoch 136/150\n",
            "804/804 [==============================] - 2s 3ms/step - loss: 0.1141 - accuracy: 0.9695 - val_loss: 0.1353 - val_accuracy: 0.9646\n",
            "Epoch 137/150\n",
            "804/804 [==============================] - 2s 3ms/step - loss: 0.1149 - accuracy: 0.9692 - val_loss: 0.1340 - val_accuracy: 0.9652\n",
            "Epoch 138/150\n",
            "804/804 [==============================] - 2s 3ms/step - loss: 0.1142 - accuracy: 0.9690 - val_loss: 0.1324 - val_accuracy: 0.9654\n",
            "Epoch 139/150\n",
            "804/804 [==============================] - 2s 3ms/step - loss: 0.1142 - accuracy: 0.9695 - val_loss: 0.1320 - val_accuracy: 0.9649\n",
            "Epoch 140/150\n",
            "804/804 [==============================] - 2s 3ms/step - loss: 0.1141 - accuracy: 0.9700 - val_loss: 0.1315 - val_accuracy: 0.9646\n",
            "Epoch 141/150\n",
            "804/804 [==============================] - 2s 3ms/step - loss: 0.1135 - accuracy: 0.9705 - val_loss: 0.1370 - val_accuracy: 0.9634\n",
            "Epoch 142/150\n",
            "804/804 [==============================] - 2s 3ms/step - loss: 0.1136 - accuracy: 0.9699 - val_loss: 0.1334 - val_accuracy: 0.9649\n",
            "Epoch 143/150\n",
            "804/804 [==============================] - 2s 3ms/step - loss: 0.1135 - accuracy: 0.9692 - val_loss: 0.1357 - val_accuracy: 0.9641\n",
            "Epoch 144/150\n",
            "804/804 [==============================] - 2s 3ms/step - loss: 0.1136 - accuracy: 0.9695 - val_loss: 0.1311 - val_accuracy: 0.9652\n",
            "Epoch 145/150\n",
            "804/804 [==============================] - 2s 3ms/step - loss: 0.1137 - accuracy: 0.9695 - val_loss: 0.1359 - val_accuracy: 0.9626\n",
            "Epoch 146/150\n",
            "804/804 [==============================] - 2s 3ms/step - loss: 0.1135 - accuracy: 0.9701 - val_loss: 0.1341 - val_accuracy: 0.9636\n",
            "Epoch 147/150\n",
            "804/804 [==============================] - 2s 3ms/step - loss: 0.1137 - accuracy: 0.9690 - val_loss: 0.1306 - val_accuracy: 0.9659\n",
            "Epoch 148/150\n",
            "804/804 [==============================] - 2s 3ms/step - loss: 0.1129 - accuracy: 0.9700 - val_loss: 0.1313 - val_accuracy: 0.9652\n",
            "Epoch 149/150\n",
            "804/804 [==============================] - 2s 3ms/step - loss: 0.1127 - accuracy: 0.9699 - val_loss: 0.1326 - val_accuracy: 0.9652\n",
            "Epoch 150/150\n",
            "804/804 [==============================] - 2s 3ms/step - loss: 0.1129 - accuracy: 0.9703 - val_loss: 0.1301 - val_accuracy: 0.9654\n"
          ],
          "name": "stdout"
        }
      ]
    },
    {
      "cell_type": "code",
      "metadata": {
        "id": "UddmEBAe84rK",
        "outputId": "f036764b-8c73-443b-cabe-77863e41fab1",
        "colab": {
          "base_uri": "https://localhost:8080/",
          "height": 312
        }
      },
      "source": [
        "## List all data in history\n",
        "print(model_histroy.history.keys())\n",
        "plt.plot(model_histroy.history['accuracy'])\n",
        "plt.plot(model_histroy.history['loss'])\n",
        "plt.title('model accuracy')\n",
        "plt.ylabel('accuracy')\n",
        "plt.xlabel('epochs')\n",
        "plt.legend(['train','test'],loc='upper right')\n",
        "plt.show()"
      ],
      "execution_count": null,
      "outputs": [
        {
          "output_type": "stream",
          "text": [
            "dict_keys(['loss', 'accuracy', 'val_loss', 'val_accuracy'])\n"
          ],
          "name": "stdout"
        },
        {
          "output_type": "display_data",
          "data": {
            "image/png": "[encoded data removed]",
            "text/plain": [
              "<Figure size 432x288 with 1 Axes>"
            ]
          },
          "metadata": {
            "tags": [],
            "needs_background": "light"
          }
        }
      ]
    },
    {
      "cell_type": "code",
      "metadata": {
        "id": "kdNt43Wt-11y",
        "outputId": "0c498ac0-ffba-4af6-9d49-a96ce2237f38",
        "colab": {
          "base_uri": "https://localhost:8080/",
          "height": 312
        }
      },
      "source": [
        "# summarize history for loss\n",
        "plt.plot(model_histroy.history['loss'])\n",
        "plt.plot(model_histroy.history['val_loss'])\n",
        "plt.title('model loss')\n",
        "plt.ylabel('loss')\n",
        "plt.xlabel('epochs')\n",
        "plt.legend(['train','test'],loc='upper left')"
      ],
      "execution_count": null,
      "outputs": [
        {
          "output_type": "execute_result",
          "data": {
            "text/plain": [
              "<matplotlib.legend.Legend at 0x7f3ed02ab828>"
            ]
          },
          "metadata": {
            "tags": []
          },
          "execution_count": 59
        },
        {
          "output_type": "display_data",
          "data": {
            "image/png": "[encoded data removed]",
            "text/plain": [
              "<Figure size 432x288 with 1 Axes>"
            ]
          },
          "metadata": {
            "tags": [],
            "needs_background": "light"
          }
        }
      ]
    },
    {
      "cell_type": "code",
      "metadata": {
        "id": "Qkaz-Pxu_bge"
      },
      "source": [
        "## part 3 -Making the predictions and evaluating the model\n",
        "# predicting the Test set results\n",
        "y_pred=model.predict(X_test)\n",
        "y_pred=(y_pred>0.5)"
      ],
      "execution_count": null,
      "outputs": []
    },
    {
      "cell_type": "code",
      "metadata": {
        "id": "M6ZzHu5O_80S"
      },
      "source": [
        "\n",
        "# making the confusion matrix\n",
        "\n",
        "from sklearn.metrics import accuracy_score,confusion_matrix,classification_report\n",
        "cm=confusion_matrix(y_test,y_pred)"
      ],
      "execution_count": null,
      "outputs": []
    },
    {
      "cell_type": "code",
      "metadata": {
        "id": "v0aSiSwoAh-T"
      },
      "source": [
        "# calculate the accuracy\n",
        "from sklearn.metrics import accuracy_score\n",
        "score=accuracy_score(y_test,y_pred)"
      ],
      "execution_count": null,
      "outputs": []
    },
    {
      "cell_type": "code",
      "metadata": {
        "id": "y-oMX30cAyPh",
        "outputId": "01138264-79e5-469b-d38d-d4bfe0f117dd",
        "colab": {
          "base_uri": "https://localhost:8080/",
          "height": 34
        }
      },
      "source": [
        "score"
      ],
      "execution_count": null,
      "outputs": [
        {
          "output_type": "execute_result",
          "data": {
            "text/plain": [
              "0.9673333333333334"
            ]
          },
          "metadata": {
            "tags": []
          },
          "execution_count": 70
        }
      ]
    },
    {
      "cell_type": "code",
      "metadata": {
        "id": "9PncqDkPA1gZ",
        "outputId": "440b3b4b-5a80-4cb7-9f22-1509ed700dc0",
        "colab": {
          "base_uri": "https://localhost:8080/",
          "height": 255
        }
      },
      "source": [
        "model.summary()"
      ],
      "execution_count": null,
      "outputs": [
        {
          "output_type": "stream",
          "text": [
            "Model: \"sequential\"\n",
            "_________________________________________________________________\n",
            "Layer (type)                 Output Shape              Param #   \n",
            "=================================================================\n",
            "dense (Dense)                (None, 6)                 114       \n",
            "_________________________________________________________________\n",
            "dense_2 (Dense)              (None, 6)                 42        \n",
            "_________________________________________________________________\n",
            "dense_4 (Dense)              (None, 1)                 7         \n",
            "=================================================================\n",
            "Total params: 163\n",
            "Trainable params: 163\n",
            "Non-trainable params: 0\n",
            "_________________________________________________________________\n"
          ],
          "name": "stdout"
        }
      ]
    },
    {
      "cell_type": "code",
      "metadata": {
        "id": "n2lU6GzzBBUi"
      },
      "source": [
        ""
      ],
      "execution_count": null,
      "outputs": []
    }
  ]
}